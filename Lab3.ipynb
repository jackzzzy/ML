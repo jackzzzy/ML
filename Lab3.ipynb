{
 "cells": [
  {
   "cell_type": "code",
   "execution_count": 86,
   "id": "4bccb367",
   "metadata": {},
   "outputs": [],
   "source": [
    "import numpy as np\n",
    "import pandas as pd\n",
    "import sklearn\n"
   ]
  },
  {
   "cell_type": "code",
   "execution_count": 127,
   "id": "a51fbf6c",
   "metadata": {},
   "outputs": [],
   "source": [
    "from sklearn.preprocessing import MinMaxScaler , OneHotEncoder , LabelEncoder\n",
    "from sklearn.impute import SimpleImputer\n",
    "from sklearn.linear_model import LinearRegression\n",
    "from sklearn.pipeline import Pipeline\n",
    "from sklearn.compose import ColumnTransformer\n",
    "from sklearn.model_selection import GridSearchCV,train_test_split\n",
    "from sklearn.metrics import mean_squared_error,mean_absolute_percentage_error,accuracy_score"
   ]
  },
  {
   "cell_type": "code",
   "execution_count": 88,
   "id": "5ea6e407",
   "metadata": {},
   "outputs": [
    {
     "name": "stdout",
     "output_type": "stream",
     "text": [
      "<class 'pandas.core.frame.DataFrame'>\n",
      "RangeIndex: 4600 entries, 0 to 4599\n",
      "Data columns (total 18 columns):\n",
      " #   Column         Non-Null Count  Dtype  \n",
      "---  ------         --------------  -----  \n",
      " 0   date           4600 non-null   object \n",
      " 1   price          4600 non-null   float64\n",
      " 2   bedrooms       4600 non-null   float64\n",
      " 3   bathrooms      4600 non-null   float64\n",
      " 4   sqft_living    4600 non-null   int64  \n",
      " 5   sqft_lot       4600 non-null   int64  \n",
      " 6   floors         4600 non-null   float64\n",
      " 7   waterfront     4600 non-null   int64  \n",
      " 8   view           4600 non-null   int64  \n",
      " 9   condition      4600 non-null   int64  \n",
      " 10  sqft_above     4600 non-null   int64  \n",
      " 11  sqft_basement  4600 non-null   int64  \n",
      " 12  yr_built       4600 non-null   int64  \n",
      " 13  yr_renovated   4600 non-null   int64  \n",
      " 14  street         4600 non-null   object \n",
      " 15  city           4600 non-null   object \n",
      " 16  statezip       4600 non-null   object \n",
      " 17  country        4600 non-null   object \n",
      "dtypes: float64(4), int64(9), object(5)\n",
      "memory usage: 647.0+ KB\n"
     ]
    }
   ],
   "source": [
    "df = pd.read_csv(\"./datasets/housePrice.csv\")\n",
    "df.info()"
   ]
  },
  {
   "cell_type": "code",
   "execution_count": 89,
   "id": "70118e4f",
   "metadata": {},
   "outputs": [],
   "source": [
    "df = df.drop(columns=['date'])"
   ]
  },
  {
   "cell_type": "code",
   "execution_count": 90,
   "id": "3a083beb",
   "metadata": {},
   "outputs": [],
   "source": [
    "X = df.drop(columns=['price'])\n",
    "y = df['price']"
   ]
  },
  {
   "cell_type": "code",
   "execution_count": 91,
   "id": "f2aca9b7",
   "metadata": {},
   "outputs": [
    {
     "name": "stdout",
     "output_type": "stream",
     "text": [
      "Index(['bedrooms', 'bathrooms', 'sqft_living', 'sqft_lot', 'floors',\n",
      "       'waterfront', 'view', 'condition', 'sqft_above', 'sqft_basement',\n",
      "       'yr_built', 'yr_renovated'],\n",
      "      dtype='object')\n",
      "Index(['street', 'city', 'statezip', 'country'], dtype='object')\n"
     ]
    }
   ],
   "source": [
    "numerical_features = X.select_dtypes(exclude=[\"object\"]).columns\n",
    "categorical_features = X.select_dtypes(include=[\"object\"]).columns\n",
    "print(numerical_features)\n",
    "print(categorical_features)"
   ]
  },
  {
   "cell_type": "code",
   "execution_count": 92,
   "id": "0a41ffcf",
   "metadata": {},
   "outputs": [],
   "source": [
    "numerical_pipe = Pipeline([('impute' , SimpleImputer(strategy='mean')) , ('minMax' , MinMaxScaler())])\n",
    "categorical_pipe = Pipeline([('impute', SimpleImputer(strategy='most_frequent')) , ('oe' , OneHotEncoder(handle_unknown='ignore'))])\n",
    "preprocessing_pipe = ColumnTransformer([('numerical' , numerical_pipe , numerical_features) , ('categorical',categorical_pipe , categorical_features)])\n",
    "X = preprocessing_pipe.fit_transform(X)\n"
   ]
  },
  {
   "cell_type": "code",
   "execution_count": 8,
   "id": "88e398c2",
   "metadata": {},
   "outputs": [],
   "source": [
    "X_train,X_test,y_train,y_test = train_test_split(X , y , test_size=0.2,random_state=0)"
   ]
  },
  {
   "cell_type": "code",
   "execution_count": 9,
   "id": "70fd6aed",
   "metadata": {},
   "outputs": [
    {
     "data": {
      "text/plain": [
       "LinearRegression()"
      ]
     },
     "execution_count": 9,
     "metadata": {},
     "output_type": "execute_result"
    }
   ],
   "source": [
    "model = LinearRegression()\n",
    "model.fit(X_train,y_train)\n"
   ]
  },
  {
   "cell_type": "code",
   "execution_count": 10,
   "id": "4d291b7b",
   "metadata": {},
   "outputs": [
    {
     "data": {
      "text/plain": [
       "0.41450178506635965"
      ]
     },
     "execution_count": 10,
     "metadata": {},
     "output_type": "execute_result"
    }
   ],
   "source": [
    "y_pred = model.predict(X_test)\n",
    "mean_absolute_percentage_error(y_pred , y_test)"
   ]
  },
  {
   "cell_type": "code",
   "execution_count": 11,
   "id": "5d7f7131",
   "metadata": {},
   "outputs": [
    {
     "data": {
      "text/plain": [
       "0.6048223049324686"
      ]
     },
     "execution_count": 11,
     "metadata": {},
     "output_type": "execute_result"
    }
   ],
   "source": [
    "model.score(X_test , y_test)"
   ]
  },
  {
   "cell_type": "markdown",
   "id": "a65a9143",
   "metadata": {},
   "source": [
    "## RBF\n"
   ]
  },
  {
   "cell_type": "code",
   "execution_count": 130,
   "id": "e8147317",
   "metadata": {},
   "outputs": [],
   "source": [
    "from sklearn.cluster import KMeans\n",
    "import math"
   ]
  },
  {
   "cell_type": "code",
   "execution_count": 131,
   "id": "39d1d52b",
   "metadata": {},
   "outputs": [],
   "source": [
    "df = pd.read_csv(\"./datasets/cancer.csv\")\n",
    "df = df.drop(columns=['id'])"
   ]
  },
  {
   "cell_type": "code",
   "execution_count": 132,
   "id": "cfe088b7",
   "metadata": {},
   "outputs": [
    {
     "name": "stdout",
     "output_type": "stream",
     "text": [
      "<class 'pandas.core.frame.DataFrame'>\n",
      "RangeIndex: 569 entries, 0 to 568\n",
      "Data columns (total 31 columns):\n",
      " #   Column                   Non-Null Count  Dtype  \n",
      "---  ------                   --------------  -----  \n",
      " 0   diagnosis                569 non-null    object \n",
      " 1   radius_mean              569 non-null    float64\n",
      " 2   texture_mean             569 non-null    float64\n",
      " 3   perimeter_mean           569 non-null    float64\n",
      " 4   area_mean                569 non-null    float64\n",
      " 5   smoothness_mean          569 non-null    float64\n",
      " 6   compactness_mean         569 non-null    float64\n",
      " 7   concavity_mean           569 non-null    float64\n",
      " 8   concave points_mean      569 non-null    float64\n",
      " 9   symmetry_mean            569 non-null    float64\n",
      " 10  fractal_dimension_mean   569 non-null    float64\n",
      " 11  radius_se                569 non-null    float64\n",
      " 12  texture_se               569 non-null    float64\n",
      " 13  perimeter_se             569 non-null    float64\n",
      " 14  area_se                  569 non-null    float64\n",
      " 15  smoothness_se            569 non-null    float64\n",
      " 16  compactness_se           569 non-null    float64\n",
      " 17  concavity_se             569 non-null    float64\n",
      " 18  concave points_se        569 non-null    float64\n",
      " 19  symmetry_se              569 non-null    float64\n",
      " 20  fractal_dimension_se     569 non-null    float64\n",
      " 21  radius_worst             569 non-null    float64\n",
      " 22  texture_worst            569 non-null    float64\n",
      " 23  perimeter_worst          569 non-null    float64\n",
      " 24  area_worst               569 non-null    float64\n",
      " 25  smoothness_worst         569 non-null    float64\n",
      " 26  compactness_worst        569 non-null    float64\n",
      " 27  concavity_worst          569 non-null    float64\n",
      " 28  concave points_worst     569 non-null    float64\n",
      " 29  symmetry_worst           569 non-null    float64\n",
      " 30  fractal_dimension_worst  569 non-null    float64\n",
      "dtypes: float64(30), object(1)\n",
      "memory usage: 137.9+ KB\n"
     ]
    }
   ],
   "source": [
    "df.info()"
   ]
  },
  {
   "cell_type": "code",
   "execution_count": 133,
   "id": "a64aa485",
   "metadata": {},
   "outputs": [],
   "source": [
    "X = df.drop(columns=['diagnosis'])\n",
    "y = df['diagnosis']"
   ]
  },
  {
   "cell_type": "code",
   "execution_count": 134,
   "id": "06db65f5",
   "metadata": {},
   "outputs": [
    {
     "name": "stdout",
     "output_type": "stream",
     "text": [
      "Index(['radius_mean', 'texture_mean', 'perimeter_mean', 'area_mean',\n",
      "       'smoothness_mean', 'compactness_mean', 'concavity_mean',\n",
      "       'concave points_mean', 'symmetry_mean', 'fractal_dimension_mean',\n",
      "       'radius_se', 'texture_se', 'perimeter_se', 'area_se', 'smoothness_se',\n",
      "       'compactness_se', 'concavity_se', 'concave points_se', 'symmetry_se',\n",
      "       'fractal_dimension_se', 'radius_worst', 'texture_worst',\n",
      "       'perimeter_worst', 'area_worst', 'smoothness_worst',\n",
      "       'compactness_worst', 'concavity_worst', 'concave points_worst',\n",
      "       'symmetry_worst', 'fractal_dimension_worst'],\n",
      "      dtype='object')\n",
      "Index([], dtype='object')\n"
     ]
    }
   ],
   "source": [
    "numerical_features = X.select_dtypes(exclude=[\"object\"]).columns\n",
    "categorical_features = X.select_dtypes(include=[\"object\"]).columns\n",
    "print(numerical_features)\n",
    "print(categorical_features)"
   ]
  },
  {
   "cell_type": "code",
   "execution_count": 135,
   "id": "ed47e7f0",
   "metadata": {},
   "outputs": [],
   "source": [
    "numerical_pipe = Pipeline([('impute' , SimpleImputer(strategy='mean')) , ('minMax' , MinMaxScaler())])\n",
    "categorical_pipe = Pipeline([('impute', SimpleImputer(strategy='most_frequent')) , ('oe' , OneHotEncoder(handle_unknown='ignore'))])\n",
    "preprocessing_pipe = ColumnTransformer([('numerical' , numerical_pipe , numerical_features) , ('categorical',categorical_pipe , categorical_features)])\n",
    "X = preprocessing_pipe.fit_transform(X)\n",
    "y = LabelEncoder().fit_transform(y)"
   ]
  },
  {
   "cell_type": "code",
   "execution_count": 136,
   "id": "c986e53f",
   "metadata": {},
   "outputs": [],
   "source": [
    "X_train,X_test,y_train,y_test = train_test_split(X , y , test_size=0.2,random_state=0)"
   ]
  },
  {
   "cell_type": "code",
   "execution_count": 138,
   "id": "7218ee9d",
   "metadata": {},
   "outputs": [],
   "source": [
    "K_cent= 2\n",
    "km= KMeans(n_clusters= K_cent, max_iter= 100)\n",
    "km.fit(X_train)\n",
    "cent= km.cluster_centers_"
   ]
  },
  {
   "cell_type": "code",
   "execution_count": 139,
   "id": "06860c8a",
   "metadata": {},
   "outputs": [],
   "source": [
    "\n",
    "max=0 \n",
    "for i in range(K_cent):\n",
    "\tfor j in range(K_cent):\n",
    "\t\td= np.linalg.norm(cent[i]-cent[j])\n",
    "\t\tif(d> max):\n",
    "\t\t\tmax= d\n",
    "d= max\n",
    "\n",
    "sigma= d/math.sqrt(2*K_cent)\n",
    "     \n"
   ]
  },
  {
   "cell_type": "code",
   "execution_count": 140,
   "id": "52448042",
   "metadata": {},
   "outputs": [],
   "source": [
    "shape= X_train.shape\n",
    "row= shape[0]\n",
    "column= K_cent\n",
    "G= np.empty((row,column), dtype= float)"
   ]
  },
  {
   "cell_type": "code",
   "execution_count": 141,
   "id": "c19f5cd9",
   "metadata": {},
   "outputs": [],
   "source": [
    "\n",
    "\n",
    "for i in range(row):\n",
    "  for j in range(column):\n",
    "    dist= np.linalg.norm(X_train[i]-cent[j])\n",
    "    G[i][j]= math.exp(-math.pow(dist,2)/math.pow(2*sigma,2))\n",
    "     \n"
   ]
  },
  {
   "cell_type": "code",
   "execution_count": 142,
   "id": "253f7e96",
   "metadata": {},
   "outputs": [],
   "source": [
    "\n",
    "GTG= np.dot(G.T,G)\n",
    "GTG_inv= np.linalg.inv(GTG)\n",
    "fac= np.dot(GTG_inv,G.T)\n",
    "W= np.dot(fac,y_train)"
   ]
  },
  {
   "cell_type": "code",
   "execution_count": 143,
   "id": "cd92abde",
   "metadata": {},
   "outputs": [],
   "source": [
    "\n",
    "\n",
    "row= X_test.shape[0]\n",
    "column= K_cent\n",
    "G_test= np.empty((row,column), dtype= float)\n",
    "for i in range(row):\n",
    "\tfor j in range(column):\n",
    "\t\tdist= np.linalg.norm(X_test[i]-cent[j])\n",
    "\t\tG_test[i][j]= math.exp(-math.pow(dist,2)/math.pow(2*sigma,2))\n",
    "     \n"
   ]
  },
  {
   "cell_type": "code",
   "execution_count": 146,
   "id": "53a5e937",
   "metadata": {},
   "outputs": [
    {
     "name": "stdout",
     "output_type": "stream",
     "text": [
      "0.868421052631579\n"
     ]
    }
   ],
   "source": [
    "prediction= np.dot(G_test,W)\n",
    "prediction= 0.5*(np.sign(prediction-0.5)+1)\n",
    "\n",
    "# score= mean_absolute_percentage_error(prediction,y_test)\n",
    "print(accuracy_score(prediction , y_test))"
   ]
  },
  {
   "cell_type": "code",
   "execution_count": null,
   "id": "498123ec",
   "metadata": {},
   "outputs": [],
   "source": []
  }
 ],
 "metadata": {
  "kernelspec": {
   "display_name": "Python 3 (ipykernel)",
   "language": "python",
   "name": "python3"
  },
  "language_info": {
   "codemirror_mode": {
    "name": "ipython",
    "version": 3
   },
   "file_extension": ".py",
   "mimetype": "text/x-python",
   "name": "python",
   "nbconvert_exporter": "python",
   "pygments_lexer": "ipython3",
   "version": "3.9.13"
  }
 },
 "nbformat": 4,
 "nbformat_minor": 5
}
